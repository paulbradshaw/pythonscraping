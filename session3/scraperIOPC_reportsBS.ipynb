{
  "nbformat": 4,
  "nbformat_minor": 0,
  "metadata": {
    "colab": {
      "provenance": [],
      "toc_visible": true
    },
    "kernelspec": {
      "name": "python3",
      "display_name": "Python 3"
    }
  },
  "cells": [
    {
      "cell_type": "markdown",
      "metadata": {
        "id": "9R2DoVKem6zW"
      },
      "source": [
        "# Scraping IOPC reports\n",
        "\n",
        "*For a [story on police misconduct](https://www.bbc.co.uk/news/uk-59594712) I scraped reports on the website of the Independent Office for Police Conduct (IOPC). This notebook details part of the process.*\n",
        "\n",
        "The IOPC [publishes investigations on its website](https://policeconduct.gov.uk/investigations/our-investigations):\n",
        "\n",
        "> \"For most of the cases we investigate, we publish anonymised summaries of our reports. These set out a summary of the circumstances that prompted the investigation, the evidence gathered and our conclusions. They also explain any outcomes for those involved – for instance, what happened if there was a misconduct hearing.\n",
        ">\n",
        "> \"We remove news releases and investigation reports from our website six months after completing an investigation. Summaries remain on our site for five years. This ensures that we are complying with data protection legislation and with our publication policy.\""
      ]
    },
    {
      "cell_type": "markdown",
      "metadata": {
        "id": "93EOJPyPni8b"
      },
      "source": [
        "## Import libraries\n",
        "\n",
        "To scrape the reports and store the data we need to import a number of Python libraries:"
      ]
    },
    {
      "cell_type": "code",
      "metadata": {
        "id": "9vzPcMdYmhlS"
      },
      "source": [
        "#install the libraries\n",
        "#requests to fetch the page\n",
        "import requests\n",
        "#beautiful soup to drill into it\n",
        "from bs4 import BeautifulSoup\n",
        "#the pandas library which is used to work with data - we call it 'pd' here so we have to type less!\n",
        "import pandas as pd"
      ],
      "execution_count": null,
      "outputs": []
    },
    {
      "cell_type": "markdown",
      "metadata": {
        "id": "RNaOuShSntBg"
      },
      "source": [
        "## Generate a list of pages to scrape\n",
        "\n",
        "The reports are linked from a series of pages: the first is https://policeconduct.gov.uk/investigations/our-investigations but going past the first page generates a URL with a page number like this: https://policeconduct.gov.uk/investigations/our-investigations?page=1\n",
        "\n",
        "We need to generate a range of page numbers and loop through those, adding them to the basic URL to create all the pages we need to scrape to get the links to all the reports."
      ]
    },
    {
      "cell_type": "code",
      "metadata": {
        "colab": {
          "base_uri": "https://localhost:8080/"
        },
        "id": "tXrHZxJGoKey",
        "outputId": "7001e6f6-412a-4c07-e277-2aa9a6a5dd58"
      },
      "source": [
        "#This URL remains unchanged, only the number at the end changes\n",
        "baseurl = \"https://policeconduct.gov.uk/investigations/our-investigations?page=\"\n",
        "#Create a range of numbers - the last one at the moment is page 48\n",
        "pagerange = range(0,49)\n",
        "#Check the last one is 48\n",
        "print(pagerange[-1])\n",
        "#create an empty list to store the URLs we are about to create\n",
        "resultsurls = []\n",
        "#loop through the numbers\n",
        "for i in pagerange:\n",
        "  #add to base URL and append to list\n",
        "  resultsurls.append(baseurl+str(i)) #the number is converted to a string so it doesn't generate an error\n",
        "\n",
        "#once the loop has finished, print the list to check\n",
        "print(resultsurls)"
      ],
      "execution_count": null,
      "outputs": [
        {
          "output_type": "stream",
          "name": "stdout",
          "text": [
            "48\n",
            "['https://policeconduct.gov.uk/investigations/our-investigations?page=0', 'https://policeconduct.gov.uk/investigations/our-investigations?page=1', 'https://policeconduct.gov.uk/investigations/our-investigations?page=2', 'https://policeconduct.gov.uk/investigations/our-investigations?page=3', 'https://policeconduct.gov.uk/investigations/our-investigations?page=4', 'https://policeconduct.gov.uk/investigations/our-investigations?page=5', 'https://policeconduct.gov.uk/investigations/our-investigations?page=6', 'https://policeconduct.gov.uk/investigations/our-investigations?page=7', 'https://policeconduct.gov.uk/investigations/our-investigations?page=8', 'https://policeconduct.gov.uk/investigations/our-investigations?page=9', 'https://policeconduct.gov.uk/investigations/our-investigations?page=10', 'https://policeconduct.gov.uk/investigations/our-investigations?page=11', 'https://policeconduct.gov.uk/investigations/our-investigations?page=12', 'https://policeconduct.gov.uk/investigations/our-investigations?page=13', 'https://policeconduct.gov.uk/investigations/our-investigations?page=14', 'https://policeconduct.gov.uk/investigations/our-investigations?page=15', 'https://policeconduct.gov.uk/investigations/our-investigations?page=16', 'https://policeconduct.gov.uk/investigations/our-investigations?page=17', 'https://policeconduct.gov.uk/investigations/our-investigations?page=18', 'https://policeconduct.gov.uk/investigations/our-investigations?page=19', 'https://policeconduct.gov.uk/investigations/our-investigations?page=20', 'https://policeconduct.gov.uk/investigations/our-investigations?page=21', 'https://policeconduct.gov.uk/investigations/our-investigations?page=22', 'https://policeconduct.gov.uk/investigations/our-investigations?page=23', 'https://policeconduct.gov.uk/investigations/our-investigations?page=24', 'https://policeconduct.gov.uk/investigations/our-investigations?page=25', 'https://policeconduct.gov.uk/investigations/our-investigations?page=26', 'https://policeconduct.gov.uk/investigations/our-investigations?page=27', 'https://policeconduct.gov.uk/investigations/our-investigations?page=28', 'https://policeconduct.gov.uk/investigations/our-investigations?page=29', 'https://policeconduct.gov.uk/investigations/our-investigations?page=30', 'https://policeconduct.gov.uk/investigations/our-investigations?page=31', 'https://policeconduct.gov.uk/investigations/our-investigations?page=32', 'https://policeconduct.gov.uk/investigations/our-investigations?page=33', 'https://policeconduct.gov.uk/investigations/our-investigations?page=34', 'https://policeconduct.gov.uk/investigations/our-investigations?page=35', 'https://policeconduct.gov.uk/investigations/our-investigations?page=36', 'https://policeconduct.gov.uk/investigations/our-investigations?page=37', 'https://policeconduct.gov.uk/investigations/our-investigations?page=38', 'https://policeconduct.gov.uk/investigations/our-investigations?page=39', 'https://policeconduct.gov.uk/investigations/our-investigations?page=40', 'https://policeconduct.gov.uk/investigations/our-investigations?page=41', 'https://policeconduct.gov.uk/investigations/our-investigations?page=42', 'https://policeconduct.gov.uk/investigations/our-investigations?page=43', 'https://policeconduct.gov.uk/investigations/our-investigations?page=44', 'https://policeconduct.gov.uk/investigations/our-investigations?page=45', 'https://policeconduct.gov.uk/investigations/our-investigations?page=46', 'https://policeconduct.gov.uk/investigations/our-investigations?page=47', 'https://policeconduct.gov.uk/investigations/our-investigations?page=48']\n"
          ]
        }
      ]
    },
    {
      "cell_type": "markdown",
      "metadata": {
        "id": "Z1z8qzgXos2b"
      },
      "source": [
        "## Create a function to scrape one page\n",
        "\n",
        "Now we need to scrape one of the pages. First we test some code:"
      ]
    },
    {
      "cell_type": "code",
      "metadata": {
        "colab": {
          "base_uri": "https://localhost:8080/"
        },
        "id": "FJgREOhys64L",
        "outputId": "4b1388dc-2e8f-427b-f192-cd35deba856f"
      },
      "source": [
        "testurl = \"https://policeconduct.gov.uk/investigations/essex-police-officer-charged-computer-misuse-offence\"\n",
        "#Scrape the html at that url\n",
        "page = requests.get(testurl)\n",
        "# turn our HTML into a soup object\n",
        "soup = BeautifulSoup(page.content, 'html.parser')\n",
        "#The links are all in <span> and then <a\n",
        "#target the contents of the html tags containing what we want\n",
        "headings = soup.select('h1')\n",
        "published = soup.select('div.author-block.border-top div p')\n",
        "contents = soup.select('div.entity.entity-paragraphs-item.paragraphs-item-article-body div.content p')\n",
        "tags = soup.select('div.related-topic.border-top a')\n",
        "\n",
        "#Show how many matches we get for each\n",
        "print(len(headings),len(published), len(contents), len(tags))\n",
        "#There should only be one heading\n",
        "print(headings[0].get_text())\n",
        "#The datestamp is the second match, and needs stripping of carriage returns\n",
        "print(\"published\", published[1].get_text().strip())\n",
        "#We can concatenate the content - starting with an empty string\n",
        "content = \"\"\n",
        "for i in contents:\n",
        "  #store the link text, adding a new line after each line\n",
        "  content = content+i.get_text()+\"\\n\"\n",
        "print(\"content\",content.strip()) #strip out the extra new line\n",
        "#create empty list to store tags\n",
        "taglist = []\n",
        "for i in tags:\n",
        "  print(i.get_text().strip())\n",
        "  #add to list\n",
        "  taglist.append(i.get_text().strip())\n",
        "print(taglist)\n",
        "fulldata = {\"heading\" : headings[0].get_text(),\n",
        "            \"date\" : published[1].get_text().strip(),\n",
        "            \"content\" : content,\n",
        "            \"tags\" : taglist}\n",
        "print(fulldata)"
      ],
      "execution_count": null,
      "outputs": [
        {
          "output_type": "stream",
          "name": "stdout",
          "text": [
            "1 2 3 2\n",
            "Essex Police - officer charged with computer misuse offence\n",
            "published 21 Jan 2021\n",
            "content Read information about our investigation into allegations an Essex Police officer used the police computer system to access records he had no legitimate policing purpose for doing so.\n",
            "Our investigation began in October 2019 and concluded in April 2020.  At the investigation’s conclusion, we referred a file of evidence to the Crown Prosecution Service (CPS), which made the decision to charge the officer.\n",
            "Corruption and abuse of power\n",
            "Essex Police\n",
            "['Corruption and abuse of power', 'Essex Police']\n",
            "{'heading': 'Essex Police - officer charged with computer misuse offence', 'date': '21 Jan 2021', 'content': 'Read information about our investigation into allegations an Essex Police officer used the police computer system to access records he had no legitimate policing purpose for doing so.\\nOur investigation began in October 2019 and concluded in April 2020.\\xa0 At the investigation’s conclusion, we referred a file of evidence to the Crown Prosecution Service (CPS), which made the decision to charge the officer.\\n\\xa0\\n', 'tags': ['Corruption and abuse of power', 'Essex Police']}\n"
          ]
        }
      ]
    },
    {
      "cell_type": "markdown",
      "metadata": {
        "id": "_LfdI-2jpteq"
      },
      "source": [
        "Then we store it in a function. Here we just return the results at the end to whatever calls the function."
      ]
    },
    {
      "cell_type": "code",
      "metadata": {
        "id": "0ISkKXRuyLgw"
      },
      "source": [
        "def scrapereport(url):\n",
        "  #Scrape the html at that url\n",
        "  try:\n",
        "    #Scrape the html at that url\n",
        "    page = requests.get(url)\n",
        "    # turn our HTML into a soup object\n",
        "    soup = BeautifulSoup(page.content, 'html.parser')\n",
        "    #The links are all in <span> and then <a\n",
        "    #target the contents of the html tags containing what we want\n",
        "    headings = soup.select('h1')\n",
        "    published = soup.select('div.author-block.border-top div p')\n",
        "    contents = soup.select('div.entity.entity-paragraphs-item.paragraphs-item-article-body div.content p')\n",
        "    tags = soup.select('div.related-topic.border-top a')\n",
        "\n",
        "    #Show how many matches we get for each\n",
        "    print(len(headings),len(published), len(contents), len(tags))\n",
        "    #There should only be one heading\n",
        "    print(headings[0].get_text())\n",
        "    #The datestamp is the second match, and needs stripping of carriage returns\n",
        "    print(\"published\", published[1].get_text().strip())\n",
        "    #We can concatenate the content - starting with an empty string\n",
        "    content = \"\"\n",
        "    for i in contents:\n",
        "      #store the link text, adding a new line after each line\n",
        "      content = content+i.get_text()+\"\\n\"\n",
        "    print(\"content\",content.strip()) #strip out the extra new line\n",
        "    #create empty list to store tags\n",
        "    taglist = []\n",
        "    for i in tags:\n",
        "      print(i.get_text().strip())\n",
        "      #add to list\n",
        "      taglist.append(i.get_text().strip())\n",
        "    print(taglist)\n",
        "    fulldata = {\"url\": url,\n",
        "                \"heading\" : headings[0].get_text(),\n",
        "                \"date\" : published[1].get_text().strip(),\n",
        "                \"content\" : content,\n",
        "                \"tags\" : taglist}\n",
        "    print(fulldata)\n",
        "    #return that to whatever called the function\n",
        "    return(fulldata)\n",
        "  except:\n",
        "    #create a dictionary holding all the data, including the url\n",
        "    fulldata = {\"url\": url,\n",
        "                \"heading\" : \"404 error\",\n",
        "                \"date\" : \"404 error\",\n",
        "                \"content\" : \"404 error\",\n",
        "                \"tags\" : [\"404 error\"]}\n",
        "    #return that to whatever called the function\n",
        "    return(fulldata)"
      ],
      "execution_count": null,
      "outputs": []
    },
    {
      "cell_type": "markdown",
      "metadata": {
        "id": "11LZu0tNrzRl"
      },
      "source": [
        "## Testing the function\n",
        "\n",
        "Then test the function"
      ]
    },
    {
      "cell_type": "code",
      "metadata": {
        "colab": {
          "base_uri": "https://localhost:8080/"
        },
        "id": "uWRjUWpT3Qbi",
        "outputId": "8477d261-23c8-48c2-a8f7-bf9d38472879"
      },
      "source": [
        "testdict = scrapereport(\"https://policeconduct.gov.uk/investigations/pc-david-owen-dismissed-gross-misconduct-west-midlands-police\")\n",
        "print(testdict)"
      ],
      "execution_count": null,
      "outputs": [
        {
          "output_type": "stream",
          "name": "stdout",
          "text": [
            "0 0 0 0\n",
            "{'url': 'https://policeconduct.gov.uk/investigations/pc-david-owen-dismissed-gross-misconduct-west-midlands-police', 'heading': '404 error', 'date': '404 error', 'content': '404 error', 'tags': ['404 error']}\n"
          ]
        }
      ]
    },
    {
      "cell_type": "markdown",
      "metadata": {
        "id": "p7FAZ3yPt5oW"
      },
      "source": [
        "## Loop through the results pages\n",
        "\n",
        "Now we can apply that function as we loop through results pages."
      ]
    },
    {
      "cell_type": "code",
      "metadata": {
        "colab": {
          "base_uri": "https://localhost:8080/"
        },
        "id": "8IRdXUgssz3N",
        "outputId": "9ca69274-b3b1-4633-a22d-e3f0cff82e2f"
      },
      "source": [
        "#This URL remains unchanged, only the number at the end changes\n",
        "baseurl = \"https://policeconduct.gov.uk/investigations/our-investigations?page=\"\n",
        "#Create a range of numbers - the last one at the moment is page 46\n",
        "pagerange = range(0,47)\n",
        "#Create an empty list to store all the links\n",
        "#Loop through\n",
        "for i in pagerange[:1]:\n",
        "  #we add the page number, converting it to a string because we're making a string\n",
        "  pageurl = baseurl+str(i)\n",
        "  #Scrape the html at that url\n",
        "  print(\"scraping resultspage\", pageurl)\n",
        "  page = requests.get(pageurl)\n",
        "  # turn our HTML into a soup object\n",
        "  soup = BeautifulSoup(page.content, 'html.parser')\n",
        "  #The links are all in <span> and then <a\n",
        "  #This targets the contents of those html tags\n",
        "  links = soup.select('span.field-content a')\n",
        "  #the results are always a list so we have to loop through it using a 'for' loop\n",
        "  for i in links[-2:]:\n",
        "    #grab the href attribute (the link) and add it to the base url\n",
        "    linkurl = \"https://policeconduct.gov.uk\"+i['href']\n",
        "    #keep us updated...\n",
        "    print(\"scraping\", linkurl)\n",
        "    #run the scraping function on that link, adding the base URL\n",
        "    reportresults = scrapereport(linkurl)\n",
        "    print(reportresults)\n"
      ],
      "execution_count": null,
      "outputs": [
        {
          "output_type": "stream",
          "name": "stdout",
          "text": [
            "scraping resultspage https://policeconduct.gov.uk/investigations/our-investigations?page=0\n",
            "scraping https://policeconduct.gov.uk/investigations/detective-guilty-forging-murder-trial-witness-statement-hampshire-constabulary\n",
            "1 2 3 2\n",
            "Detective guilty of forging murder trial witness statement - Hampshire Constabulary\n",
            "published 25 Jan 2022\n",
            "content Read information about our investigation into DC Robert Ferrow, based at Portsmouth police station, who was charged with making a false instrument with intent for it to be accepted as genuine, under the Forgery and Counterfeiting Act 1981. \n",
            "Our investigation began in August 2019 and concluded in June 2020. At the investigation’s conclusion, we referred a file of evidence to the Crown Prosecution Service (CPS), which made the decision to charge the officer. A special case misconduct hearing was held on 25 October 2021, where the Hampshire Constabulary Police Chief Constable ruled former DC Ferrow would have been dismissed if still a serving officer. He will be placed on the police barred list. \n",
            "Our investigation report and summary of conclusions are available from this investigation page.\n",
            "Corruption and abuse of power\n",
            "Hampshire Constabulary\n",
            "['Corruption and abuse of power', 'Hampshire Constabulary']\n",
            "{'url': 'https://policeconduct.gov.uk/investigations/detective-guilty-forging-murder-trial-witness-statement-hampshire-constabulary', 'heading': 'Detective guilty of forging murder trial witness statement - Hampshire Constabulary', 'date': '25 Jan 2022', 'content': 'Read information about our investigation into DC Robert Ferrow, based at Portsmouth police station, who was\\xa0charged with making a false instrument with intent for it to be accepted as genuine, under the Forgery and Counterfeiting Act 1981.\\xa0\\nOur investigation began in August 2019 and concluded in June 2020.\\xa0At the investigation’s conclusion, we referred a file of evidence to the Crown Prosecution Service (CPS), which made the decision to charge the officer. A\\xa0special case misconduct hearing was held on 25 October 2021, where the Hampshire Constabulary Police Chief Constable ruled former DC Ferrow would have been dismissed if still a serving officer. He will be placed on the police barred list.\\xa0\\nOur investigation report and summary of conclusions are available from this investigation page.\\xa0\\n', 'tags': ['Corruption and abuse of power', 'Hampshire Constabulary']}\n",
            "{'url': 'https://policeconduct.gov.uk/investigations/detective-guilty-forging-murder-trial-witness-statement-hampshire-constabulary', 'heading': 'Detective guilty of forging murder trial witness statement - Hampshire Constabulary', 'date': '25 Jan 2022', 'content': 'Read information about our investigation into DC Robert Ferrow, based at Portsmouth police station, who was\\xa0charged with making a false instrument with intent for it to be accepted as genuine, under the Forgery and Counterfeiting Act 1981.\\xa0\\nOur investigation began in August 2019 and concluded in June 2020.\\xa0At the investigation’s conclusion, we referred a file of evidence to the Crown Prosecution Service (CPS), which made the decision to charge the officer. A\\xa0special case misconduct hearing was held on 25 October 2021, where the Hampshire Constabulary Police Chief Constable ruled former DC Ferrow would have been dismissed if still a serving officer. He will be placed on the police barred list.\\xa0\\nOur investigation report and summary of conclusions are available from this investigation page.\\xa0\\n', 'tags': ['Corruption and abuse of power', 'Hampshire Constabulary']}\n",
            "scraping https://policeconduct.gov.uk/investigations/north-yorkshire-abuse-power-sexual-purpose\n",
            "1 2 1 1\n",
            "North Yorkshire - Abuse of power for sexual purpose \n",
            "published 20 Jan 2022\n",
            "content Read information about our investigation into former officer Christopher Bolton accused of abuse of power for sexual purpose following a referral from North Yorkshire Police in November 2020.Our investigation concluded in April 2021 and a misconduct hearing was held on 11 January 2022.\n",
            "North Yorkshire Police\n",
            "['North Yorkshire Police']\n",
            "{'url': 'https://policeconduct.gov.uk/investigations/north-yorkshire-abuse-power-sexual-purpose', 'heading': 'North Yorkshire - Abuse of power for sexual purpose ', 'date': '20 Jan 2022', 'content': 'Read information about our investigation into\\xa0former officer Christopher Bolton\\xa0accused of abuse of power for sexual purpose following a\\xa0referral\\xa0from North Yorkshire Police in November 2020.Our\\xa0investigation\\xa0concluded in April 2021 and a\\xa0misconduct\\xa0hearing was held on 11 January 2022.\\n', 'tags': ['North Yorkshire Police']}\n",
            "{'url': 'https://policeconduct.gov.uk/investigations/north-yorkshire-abuse-power-sexual-purpose', 'heading': 'North Yorkshire - Abuse of power for sexual purpose ', 'date': '20 Jan 2022', 'content': 'Read information about our investigation into\\xa0former officer Christopher Bolton\\xa0accused of abuse of power for sexual purpose following a\\xa0referral\\xa0from North Yorkshire Police in November 2020.Our\\xa0investigation\\xa0concluded in April 2021 and a\\xa0misconduct\\xa0hearing was held on 11 January 2022.\\n', 'tags': ['North Yorkshire Police']}\n"
          ]
        }
      ]
    },
    {
      "cell_type": "markdown",
      "metadata": {
        "id": "rPN6GG2cRchD"
      },
      "source": [
        "Let's adapt that to just store the links"
      ]
    },
    {
      "cell_type": "code",
      "metadata": {
        "colab": {
          "base_uri": "https://localhost:8080/"
        },
        "id": "r2LpupqYRB1o",
        "outputId": "df5bf80e-5228-4a89-9511-15a1dca2a3c0"
      },
      "source": [
        "#Create an empty list to store all the links\n",
        "alllinks = []\n",
        "#Loop through\n",
        "for i in pagerange:\n",
        "  #we add the page number, converting it to a string because we're making a string\n",
        "  pageurl = baseurl+str(i)\n",
        "  #Scrape the html at that url\n",
        "  print(\"scraping resultspage\", pageurl)\n",
        "  page = requests.get(pageurl)\n",
        "  # turn our HTML into a soup object\n",
        "  soup = BeautifulSoup(page.content, 'html.parser')\n",
        "  #The links are all in <span> and then <a\n",
        "  #This targets the contents of those html tags\n",
        "  links = soup.select('span.field-content a')\n",
        "  #add to our ongoing list\n",
        "  alllinks.extend(links)\n",
        "print(len(alllinks))\n",
        "print(alllinks)\n",
        "#print first one href attrib\n",
        "print(alllinks[0]['href'])"
      ],
      "execution_count": null,
      "outputs": [
        {
          "output_type": "stream",
          "name": "stdout",
          "text": [
            "scraping resultspage https://policeconduct.gov.uk/investigations/our-investigations?page=0\n",
            "scraping resultspage https://policeconduct.gov.uk/investigations/our-investigations?page=1\n",
            "scraping resultspage https://policeconduct.gov.uk/investigations/our-investigations?page=2\n",
            "scraping resultspage https://policeconduct.gov.uk/investigations/our-investigations?page=3\n",
            "scraping resultspage https://policeconduct.gov.uk/investigations/our-investigations?page=4\n",
            "scraping resultspage https://policeconduct.gov.uk/investigations/our-investigations?page=5\n",
            "scraping resultspage https://policeconduct.gov.uk/investigations/our-investigations?page=6\n",
            "scraping resultspage https://policeconduct.gov.uk/investigations/our-investigations?page=7\n",
            "scraping resultspage https://policeconduct.gov.uk/investigations/our-investigations?page=8\n",
            "scraping resultspage https://policeconduct.gov.uk/investigations/our-investigations?page=9\n",
            "scraping resultspage https://policeconduct.gov.uk/investigations/our-investigations?page=10\n",
            "scraping resultspage https://policeconduct.gov.uk/investigations/our-investigations?page=11\n",
            "scraping resultspage https://policeconduct.gov.uk/investigations/our-investigations?page=12\n",
            "scraping resultspage https://policeconduct.gov.uk/investigations/our-investigations?page=13\n",
            "scraping resultspage https://policeconduct.gov.uk/investigations/our-investigations?page=14\n",
            "scraping resultspage https://policeconduct.gov.uk/investigations/our-investigations?page=15\n",
            "scraping resultspage https://policeconduct.gov.uk/investigations/our-investigations?page=16\n",
            "scraping resultspage https://policeconduct.gov.uk/investigations/our-investigations?page=17\n",
            "scraping resultspage https://policeconduct.gov.uk/investigations/our-investigations?page=18\n",
            "scraping resultspage https://policeconduct.gov.uk/investigations/our-investigations?page=19\n",
            "scraping resultspage https://policeconduct.gov.uk/investigations/our-investigations?page=20\n",
            "scraping resultspage https://policeconduct.gov.uk/investigations/our-investigations?page=21\n",
            "scraping resultspage https://policeconduct.gov.uk/investigations/our-investigations?page=22\n",
            "scraping resultspage https://policeconduct.gov.uk/investigations/our-investigations?page=23\n",
            "scraping resultspage https://policeconduct.gov.uk/investigations/our-investigations?page=24\n",
            "scraping resultspage https://policeconduct.gov.uk/investigations/our-investigations?page=25\n",
            "scraping resultspage https://policeconduct.gov.uk/investigations/our-investigations?page=26\n",
            "scraping resultspage https://policeconduct.gov.uk/investigations/our-investigations?page=27\n",
            "scraping resultspage https://policeconduct.gov.uk/investigations/our-investigations?page=28\n",
            "scraping resultspage https://policeconduct.gov.uk/investigations/our-investigations?page=29\n",
            "scraping resultspage https://policeconduct.gov.uk/investigations/our-investigations?page=30\n",
            "scraping resultspage https://policeconduct.gov.uk/investigations/our-investigations?page=31\n",
            "scraping resultspage https://policeconduct.gov.uk/investigations/our-investigations?page=32\n",
            "scraping resultspage https://policeconduct.gov.uk/investigations/our-investigations?page=33\n",
            "scraping resultspage https://policeconduct.gov.uk/investigations/our-investigations?page=34\n",
            "scraping resultspage https://policeconduct.gov.uk/investigations/our-investigations?page=35\n",
            "scraping resultspage https://policeconduct.gov.uk/investigations/our-investigations?page=36\n",
            "scraping resultspage https://policeconduct.gov.uk/investigations/our-investigations?page=37\n",
            "scraping resultspage https://policeconduct.gov.uk/investigations/our-investigations?page=38\n",
            "scraping resultspage https://policeconduct.gov.uk/investigations/our-investigations?page=39\n",
            "scraping resultspage https://policeconduct.gov.uk/investigations/our-investigations?page=40\n",
            "scraping resultspage https://policeconduct.gov.uk/investigations/our-investigations?page=41\n",
            "scraping resultspage https://policeconduct.gov.uk/investigations/our-investigations?page=42\n",
            "scraping resultspage https://policeconduct.gov.uk/investigations/our-investigations?page=43\n",
            "scraping resultspage https://policeconduct.gov.uk/investigations/our-investigations?page=44\n",
            "scraping resultspage https://policeconduct.gov.uk/investigations/our-investigations?page=45\n",
            "scraping resultspage https://policeconduct.gov.uk/investigations/our-investigations?page=46\n",
            "282\n",
            "[<a href=\"/investigations/yasmin-jasiak-northumbria\">Yasmin Jasiak - Northumbria</a>, <a href=\"/investigations/allegations-inappropriate-contact-officer-three-vulnerable-women-west-mercia-police\">Allegations of inappropriate contact by officer with three vulnerable women - West Mercia Police</a>, <a href=\"/investigations/allegations-inappropriate-contact-two-women-west-mercia-police\">Allegations of inappropriate contact with two women - West Mercia Police</a>, <a href=\"/investigations/use-force-greater-manchester-police\">Use of Force - Greater Manchester Police</a>, <a href=\"/investigations/detective-guilty-forging-murder-trial-witness-statement-hampshire-constabulary\">Detective guilty of forging murder trial witness statement - Hampshire Constabulary</a>, <a href=\"/investigations/north-yorkshire-abuse-power-sexual-purpose\">North Yorkshire - Abuse of power for sexual purpose </a>, <a href=\"/investigations/use-force-14-year-old-girl-sussex-police\">Use of force on 14-year-old girl - Sussex Police </a>, <a href=\"/investigations/allegation-excessive-use-force-through-tactical-contact-during-pursuit-devon-and\">Allegation of excessive use of force through tactical contact during pursuit - Devon and Cornwall</a>, <a href=\"/investigations/devon-and-cornwall-police-officer-receives-final-written-warning-excessive-use-force\">Devon and Cornwall police officer receives final written warning for excessive use of force in tactical contact</a>, <a href=\"/investigations/allegations-inappropriate-and-unprofessional-contact-officer-avon-and-somerset\">Allegations of inappropriate and unprofessional contact by officer - Avon and Somerset </a>, <a href=\"/investigations/fatal-police-shooting-kensington-metropolitan-police-service\">Fatal police shooting at Kensington - Metropolitan Police Service</a>, <a href=\"/investigations/essex-abuse-power-sexual-purpose\">Essex - Abuse of power for sexual purpose</a>, <a href=\"/investigations/leicestershire-police-pc-norman-watson-abuse-position-sexual-purpose\">Leicestershire Police - PC Norman Watson - Abuse of position for sexual purpose</a>, <a href=\"/investigations/nca-simon-gaffney-misconduct-public-office\">NCA - Simon Gaffney - Misconduct in public office</a>, <a href=\"/investigations/mps-pc-daniel-francis-rti\">MPS - Pc Daniel Francis - RTI</a>, <a href=\"/investigations/hertfordshire-constabulary-pc-stephen-dalton-use-force\">Hertfordshire Constabulary - Pc Stephen Dalton - use of force</a>, <a href=\"/investigations/queens-promenade-collision-lancashire-police\">Queens Promenade collision - Lancashire Police</a>, <a href=\"/investigations/incident-perry-barr-custody-suite-west-midlands-police\">Incident at Perry Barr custody suite - West Midlands Police</a>, <a href=\"/investigations/death-chad-allford-following-police-contact-derbyshire-police\">Death of Chad Allford following police contact - Derbyshire Police</a>, <a href=\"/investigations/handling-reports-sisters-were-missing-metropolitan-police-service\">Handling of reports sisters were missing  - Metropolitan Police Service</a>, <a href=\"/investigations/river-lea-tottenham-hale-death-following-police-contact-metropolitan-police-service\">River Lea, Tottenham Hale - death following police contact - Metropolitan Police Service</a>, <a href=\"/investigations/fatal-road-traffic-collision-derbyshire-constabulary\">Fatal road traffic collision - Derbyshire Constabulary</a>, <a href=\"/investigations/allegation-officer-entered-inappropriate-relationship-nottinghamshire-police\">Allegation officer entered into inappropriate relationship - Nottinghamshire Police</a>, <a href=\"/investigations/allegations-officer-entered-inappropriate-relationship-dorset-police\">Allegations officer entered into inappropriate relationship - Dorset Police</a>, <a href=\"/investigations/officer-shared-offensive-comments-northumbria\">Officer shared offensive comments - Northumbria</a>, <a href=\"/investigations/allegation-inappropriate-contact-member-public-avon-and-somerset-police\">Allegation of inappropriate contact with member of public - Avon and Somerset Police</a>, <a href=\"/investigations/leyton-death-custody-metropolitan-police-service\">Leyton death in custody - Metropolitan Police Service </a>, <a href=\"/investigations/former-pc-james-topp-west-yorkshire-police\">Former PC James Topp - West Yorkshire Police</a>, <a href=\"/investigations/serious-injuries-during-bromley-stop-metropolitan-police-service\">Serious injuries during Bromley stop - Metropolitan Police Service</a>, <a href=\"/investigations/bexley-use-force-incident-metropolitan-police-service\">Bexley use of force incident - Metropolitan Police Service</a>, <a href=\"/investigations/allegations-entering-inappropriate-relationships-gwent-police\">Allegations of entering into inappropriate relationships - Gwent Police</a>, <a href=\"/investigations/former-police-constable-declan-jones-west-midlands-police\">Former Police Constable Declan Jones - West Midlands Police </a>, <a href=\"/investigations/fatal-police-shooting-sudesh-amman-streatham-metropolitan-police-service\">Fatal police shooting of Sudesh Amman in Streatham - Metropolitan Police Service</a>, <a href=\"/investigations/plymouth-mass-shooting-devon-and-cornwall-police\">Plymouth mass shooting - Devon and Cornwall Police</a>, <a href=\"/investigations/teenage-boy-allegations-excessive-use-force-and-discrimination-metropolitan-police\">Teenage boy - Allegations of excessive of use of force and discrimination - Metropolitan Police Service</a>, <a href=\"/investigations/alleged-excessive-use-force-pc-knight-south-wales\">Alleged excessive use of force - PC Knight - South Wales</a>, <a href=\"/investigations/kent-police-death-custody-tonbridge-police-station\">Kent Police - death in custody at Tonbridge Police Station</a>, <a href=\"/investigations/fatal-rti-newcastle-northumbria\">Fatal RTI in Newcastle - Northumbria</a>, <a href=\"/investigations/sussex-police-corruption-investigation\">Sussex Police - corruption investigation</a>, <a href=\"/investigations/investigation-force-used-during-arrest-newport-gwent-police\">Investigation into force used during arrest in Newport - Gwent Police</a>, <a href=\"/investigations/pc-adnan-ali-greater-manchester-police\">PC Adnan Ali - Greater Manchester Police</a>, <a href=\"/investigations/death-andrew-hall-west-yorkshire-police\">Death of Andrew Hall - West Yorkshire Police</a>, <a href=\"/investigations/death-gracie-spinks-derbyshire\">Death of Gracie Spinks - Derbyshire</a>, <a href=\"/investigations/manchester-arena-inquiry-greater-manchester-police\">Manchester Arena Inquiry - Greater Manchester Police</a>, <a href=\"/investigations/tvp-abingdon-police-station-death-custody\">TVP - Abingdon Police Station - death in custody</a>, <a href=\"/investigations/fatal-shooting-milton-keynes-thames-valley-police\">Fatal shooting in Milton Keynes - Thames Valley Police</a>, <a href=\"/investigations/ammunition-found-former-police-and-crime-commissioners-address-%E2%80%93-cambridgeshire\">Ammunition found at a former Police and Crime Commissioner's address – Cambridgeshire Police and Crime Panel</a>, <a href=\"/investigations/death-following-police-contact-pentwyn-south-wales-police-0\">Death following police contact in Pentwyn - South Wales Police</a>, <a href=\"/investigations/pc-abigail-chalkright-hertfordshire-constabulary\">PC Abigail Chalkright - Hertfordshire Constabulary </a>, <a href=\"/investigations/surrey-police-sergeant-admits-misconduct-public-office\">Surrey Police - sergeant admits misconduct in public office</a>, <a href=\"/investigations/essex-police-a13-double-fatal-road-traffic-incident\">Essex Police - A13 double fatal road traffic incident</a>, <a href=\"/investigations/matthew-mackell-kent-police\">Matthew Mackell - Kent Police</a>, <a href=\"/investigations/use-force-romford-metropolitan-police-service\">Use of force at Romford - Metropolitan Police Service</a>, <a href=\"/investigations/pc-shareen-kashif-metropolitan-police-service\">PC Shareen Kashif - Metropolitan Police Service </a>, <a href=\"/investigations/sussex-rti-bear-road\">Sussex - RTI - Bear Road</a>, <a href=\"/investigations/kimberley-cameron-road-traffic-incident-thames-valley-police\">Kimberley Cameron - road traffic incident - Thames Valley Police</a>, <a href=\"/investigations/pc-daniel-bowen-causing-death-careless-driving-metropolitan-police-service\">Pc Daniel Bowen - causing death by careless driving - Metropolitan Police Service</a>, <a href=\"/investigations/mps-man-dies-following-pursuit-hounslow\">MPS - man dies following pursuit in Hounslow</a>, <a href=\"/investigations/serious-injury-collision-involving-police-van-leicestershire-police\">Serious injury collision involving police van - Leicestershire Police </a>, <a href=\"/investigations/kent-police-community-support-officer-dismissed-after-he-formed-inappropriate\">Kent Police Community Support Officer dismissed after he formed inappropriate relationships with vulnerable women</a>, <a href=\"/investigations/streatham-rti-metropolitan-police-conduct\">Streatham RTI - Metropolitan Police - conduct</a>, <a href=\"/investigations/westcliff-sea-allegations-use-excessive-force-during-arrest-essex-police\">Westcliff-On-Sea - Allegations of use of excessive force during arrest - Essex Police</a>, <a href=\"/investigations/stop-and-search-incident-bristol-avon-and-somerset-police\">Stop and search incident in Bristol - Avon and Somerset Police</a>, <a href=\"/investigations/use-force-wolverhampton-west-midlands-police\">Use of force at Wolverhampton - West Midlands Police</a>, <a href=\"/investigations/essex-police-linda-vilika-investigation\">Essex Police - Linda Vilika investigation</a>, <a href=\"/investigations/serving-constable-and-former-officer-charged-west-midlands-police\">Serving constable and former officer charged - West Midlands Police</a>, <a href=\"/investigations/death-44-year-old-man-haringey-death-following-police-contact-metropolitan-police\">Death of 44-year-old man in Haringey - Death following police contact - Metropolitan Police Service</a>, <a href=\"/investigations/response-report-indecent-exposure-metropolitan-police-service\">Response to report of indecent exposure - Metropolitan Police Service</a>, <a href=\"/investigations/sandy-road-seaforth-incident-merseyside-police\">Sandy Road, Seaforth incident - Merseyside Police</a>, <a href=\"/investigations/use-force-during-arrest-nottinghamshire-police\">Use of force during arrest - Nottinghamshire Police </a>, <a href=\"/investigations/ps-matthew-myers-allegations-assault-child-custody-thames-valley-police\">PS Matthew Myers - Allegations of assault of child in custody - Thames Valley Police</a>, <a href=\"/investigations/mouayed-bashir-death-following-police-contact-gwent-police\">Mouayed Bashir - Death following police contact - Gwent Police</a>, <a href=\"/investigations/neerju-mohamedally-corruption-metropolitan-police-service\">Neerju Mohamedally - corruption - Metropolitan Police Service</a>, <a href=\"/investigations/essex-police-officer-charged-computer-misuse-offence\">Essex Police - officer charged with computer misuse offence</a>, <a href=\"/investigations/police-contact-prior-death-custody-nottinghamshire-police\">Police contact prior to death in custody - Nottinghamshire Police</a>, <a href=\"/investigations/death-mohamud-hassan-following-police-contact-south-wales-police\">Death of Mohamud Hassan following police contact - South Wales Police</a>, <a href=\"/investigations/detective-constable-conduct-and-dishonesty-sussex-police\">Detective constable - conduct and dishonesty - Sussex Police</a>, <a href=\"/investigations/police-constable-use-force-sussex-police\">Police constable - Use of force - Sussex Police</a>, <a href=\"/investigations/hertfordshire-constabulary-officer-sexual-activity-child-investigation\">Hertfordshire Constabulary officer - sexual activity with a child investigation</a>, <a href=\"/investigations/pcso-mark-turner-greater-manchester-police\">PCSO Mark Turner - Greater Manchester Police</a>, <a href=\"/investigations/death-custody-norfolk-constabulary\">Death in custody - Norfolk Constabulary</a>, <a href=\"/investigations/peter-kiba-greater-manchester-police\">Peter Kiba - Greater Manchester Police </a>, <a href=\"/investigations/shae-marlow-greater-manchester-police\">Shae Marlow - Greater Manchester Police</a>, <a href=\"/investigations/halifax-arrest-west-yorkshire-police\">Halifax arrest - West Yorkshire Police </a>, <a href=\"/investigations/elland-road-west-yorkshire-police\">Elland Road - West Yorkshire Police</a>, <a href=\"/investigations/amy-leanne-stringfellow-south-yorkshire-police\">Amy-Leanne Stringfellow - South Yorkshire Police</a>, <a href=\"/investigations/ps-peter-jordan-merseyside-police\">PS Peter Jordan - Merseyside Police</a>, <a href=\"/investigations/chester-road-taser-incident-greater-manchester-police\">Chester Road Taser incident - Greater Manchester Police</a>, <a href=\"/investigations/dc-quita-passmore-north-yorkshire-police\">DC Quita Passmore - North Yorkshire Police</a>, <a href=\"/investigations/pc-jonathan-ryan-greater-manchester-police\">PC Jonathan Ryan - Greater Manchester Police </a>, <a href=\"/investigations/domestic-incident-lancashire-police\">Domestic incident - Lancashire Police</a>, <a href=\"/investigations/south-yorkshire-police-barnsley-v-sheffield-wednesday-match\">South Yorkshire Police - Barnsley v Sheffield Wednesday match </a>, <a href=\"/investigations/fatal-shooting-graham-trinder-swindon-wiltshire-police\">Fatal shooting of Graham Trinder in Swindon - Wiltshire Police</a>, <a href=\"/investigations/west-midlands-police-fatal-road-collision-kingswinford\">West Midlands Police - Fatal road collision at Kingswinford</a>, <a href=\"/investigations/jatinder-bunger-lancashire-police\">Jatinder Bunger - Lancashire Police</a>, <a href=\"/investigations/allegations-computer-misuse-dyfed-powys-police\">Allegations of computer misuse - Dyfed Powys Police</a>, <a href=\"/investigations/shooting-croydon-custody-centre-metropolitan-police\">Shooting at Croydon Custody Centre - Metropolitan Police</a>, <a href=\"/investigations/paddy-connors-and-tommy-sharp-greater-manchester-police\">Paddy Connors and Tommy Sharp - Greater Manchester Police </a>, <a href=\"/investigations/declan-toyne-aka-dec-smedley-fatal-road-collision-nottinghamshire-police\">Declan Toyne (aka Dec Smedley) - fatal road collision - Nottinghamshire Police</a>, <a href=\"/investigations/investigation-allegation-abuse-position-police-constable-north-wales\">Investigation into allegation of abuse of position by police constable - North Wales</a>, <a href=\"/investigations/mark-pryor-death-custody-derbyshire-constabulary\">Mark Pryor death in custody - Derbyshire Constabulary</a>, <a href=\"/investigations/pc-philip-ellis-greater-manchester-police\">PC Philip Ellis - Greater Manchester Police </a>, <a href=\"/investigations/pc-philip-ellis-greater-manchester-police\">PC Philip Ellis - Greater Manchester Police </a>, <a href=\"/investigations/operation-augusta-greater-manchester-police\">Operation Augusta - Greater Manchester Police</a>, <a href=\"/investigations/pc-phillip-smith-greater-manchester-police\">PC Phillip Smith - Greater Manchester Police</a>, <a href=\"/investigations/mohammed-aziz-and-suhail-akhtar-west-yorkshire-police\">Mohammed Aziz and Suhail Akhtar - West Yorkshire Police </a>, <a href=\"/investigations/pc-sally-thomas-south-wales-police\">PC Sally Thomas - South Wales Police</a>, <a href=\"/investigations/anastasia-theofilou-devon-and-cornwall-police\">Anastasia Theofilou - Devon and Cornwall Police</a>, <a href=\"/investigations/fatal-road-traffic-collision-hartlebury-worcestershire-west-mercia-police\">Fatal road traffic collision at Hartlebury, Worcestershire - West Mercia Police</a>, <a href=\"/investigations/iopc-thematic-focus-race-discrimination-investigations\">IOPC thematic focus on race discrimination investigations</a>, <a href=\"/investigations/stop-and-search-incident-maida-vale-london\">Stop and search incident in Maida Vale, London</a>, <a href=\"/investigations/complaint-racial-profiling-when-cambridgeshire-constabulary-stopped-and-questioned\">Complaint of racial profiling when Cambridgeshire Constabulary stopped and questioned a man in Ely </a>, <a href=\"/investigations/hertfordshire-constabulary-pc-musto-apsp\">Hertfordshire Constabulary - PC Musto - APSP</a>, <a href=\"/investigations/metropolitan-police-allegations-officers-taking-inappropriate-photographs\">Metropolitan Police - Allegations of officers taking inappropriate photographs</a>, <a href=\"/investigations/inappropriate-whatsapp-image-devon-and-cornwall-police\">Inappropriate WhatsApp image - Devon and Cornwall Police</a>, <a href=\"/investigations/accrington-incident-lancashire-constabulary\">Accrington incident - Lancashire Constabulary</a>, <a href=\"/investigations/wakefield-fatal-pursuit-west-yorkshire-police\">Wakefield fatal pursuit - West Yorkshire Police</a>, <a href=\"/investigations/surrey-police-pcso-abuse-position-sexual-purpose\">Surrey Police PCSO abuse of position for sexual purpose</a>, <a href=\"/investigations/death-custody-simeon-francis-devon-and-cornwall-police\">Death in custody - Simeon Francis - Devon and Cornwall Police</a>, <a href=\"/investigations/death-man-detained-after-collision-coventry-west-midlands-police\">Death of man detained after collision in Coventry - West Midlands Police</a>, <a href=\"/investigations/alleged-excessive-force-15-year-old-boy-newtown-birmingham-west-midlands-police\">Alleged excessive force on 15-year-old boy in Newtown, Birmingham - West Midlands Police</a>, <a href=\"/investigations/fatal-rti-droitwich-west-mercia-police\">Fatal RTI in Droitwich - West Mercia Police</a>, <a href=\"/investigations/matthew-terrill-south-yorkshire-police\">Matthew Terrill - South Yorkshire Police</a>, <a href=\"/investigations/makeyourselfheard-%E2%80%93-silent-solution-awareness-campaign\">#MakeYourselfHeard – Silent Solution awareness campaign</a>, <a href=\"/investigations/peter-howieson-lancashire-police\">Peter Howieson - Lancashire Police</a>, <a href=\"/investigations/death-following-police-contact-metropolitan-police-service\">Death following police contact - Metropolitan Police Service</a>, <a href=\"/investigations/fatal-shooting-westminster-metropolitan-police-service-city-london-police-ministry\">Fatal shooting in Westminster - Metropolitan Police Service, City of London Police, Ministry of Defence Police</a>, <a href=\"/investigations/streatham-high-road-terrorism-incident-metropolitan-police-service\">Streatham High Road terrorism incident - Metropolitan Police Service</a>, <a href=\"/investigations/robert-and-shirley-wigzell-rti-mps\">Robert and Shirley Wigzell - RTI - MPS</a>, <a href=\"/investigations/officers-attended-man-self-harming-swansea-south-wales-police\">Officers attended man self-harming in Swansea - South Wales Police</a>, <a href=\"/investigations/accrington-arrest-lancashire-constabulary\">Accrington arrest - Lancashire Constabulary</a>, <a href=\"/investigations/death-following-police-contact-newtown-dyfed-powys-police\">Death following police contact in Newtown - Dyfed Powys Police</a>, <a href=\"/investigations/kelvin-bainbridge-durham-constabulary\">Kelvin Bainbridge - Durham Constabulary</a>, <a href=\"/investigations/fatal-road-traffic-collision-hempstead-rd-watford-hertfordshire-police\">Fatal road traffic collision at Hempstead Rd, Watford - Hertfordshire Police</a>, <a href=\"/investigations/conner-palmer-avon-and-somerset-police\">Conner Palmer - Avon and Somerset Police</a>, <a href=\"/investigations/officer-dismissed-gross-misconduct-over-abusive-and-discriminatory-language-mps\">Officer dismissed for gross misconduct over abusive and discriminatory language - MPS</a>, <a href=\"/investigations/officers-handling-rape-allegation-misconduct-hearing-mps\">Officers handling of rape allegation misconduct hearing - MPS</a>, <a href=\"/investigations/gross-misconduct-officer-who-abused-position-mps\">Gross misconduct for officer who abused position - MPS</a>, <a href=\"/investigations/honesty-and-integrity-allegations-against-officer-surrey-police\">Honesty and integrity allegations against officer - Surrey Police</a>, <a href=\"/investigations/jade-mutua-mps\">Jade Mutua - MPS</a>, <a href=\"/investigations/complaint-over-use-force-during-arrest-thanet-kent-police\">Complaint over use of force during arrest in Thanet  - Kent Police</a>, <a href=\"/investigations/louise-bailey-locksbottom-rti-mps\">Louise Bailey - Locksbottom RTI - MPS</a>, <a href=\"/investigations/jason-lennon-death-excel-centre-mps\">Jason Lennon - death at Excel Centre - MPS</a>, <a href=\"/investigations/andrew-smee-farnborough-rti-hampshire\">Andrew Smee - Farnborough RTI - Hampshire</a>, <a href=\"/investigations/serious-injury-road-collision-nottinghamshire-police\">Serious injury road collision - Nottinghamshire Police </a>, <a href=\"/investigations/allegation-fraud-during-scene-guard-duty-metropolitan-police-service\">Allegation of fraud during scene guard duty - Metropolitan Police Service</a>, <a href=\"/investigations/investigation-following-video-arrest-east-london-metropolitan-police\">Investigation following video of arrest in east London - Metropolitan Police</a>, <a href=\"/investigations/pc-james-ankrett-west-midlands-police\">PC James Ankrett - West Midlands Police</a>, <a href=\"/investigations/allegations-inappropriate-behaviour-essex-police\">Allegations of inappropriate behaviour - Essex Police</a>, <a href=\"/investigations/use-force-custody-metropolitan-police-service\">Use of force in custody - Metropolitan Police Service</a>, <a href=\"/investigations/investigation-force-used-officer-metropolitan-police-service\">Investigation into force used by officer - Metropolitan Police Service</a>, <a href=\"/investigations/collision-involving-marked-police-motorcycle-and-pedestrian-metropolitan-police\">Collision involving a marked police motorcycle and a pedestrian - Metropolitan Police Service</a>, <a href=\"/investigations/delroy-robinson-mitcham-road-traffic-collision-mps\">Delroy Robinson - Mitcham road traffic collision - MPS</a>, <a href=\"/investigations/road-traffic-incident-a5-near-cannock-staffordshire-police\">Road traffic incident, A5 near Cannock - Staffordshire Police</a>, <a href=\"/investigations/incident-between-police-officers-and-protestors-during-%E2%80%98yellow-vest-march%E2%80%99\">Incident between police officers and protestors during a ‘Yellow Vest March’  - Metropolitan Police Service</a>, <a href=\"/investigations/fatal-rti-kingstanding-birmingham-west-midlands\">Fatal RTI in Kingstanding, Birmingham - West Midlands</a>, <a href=\"/investigations/road-traffic-incident-pedestrian-hit-police-van-streatham-metropolitan-police-service\">Road traffic incident - Pedestrian hit by police van in Streatham - Metropolitan Police Service</a>, <a href=\"/investigations/joseph-coleman-greater-manchester-police\">Joseph Coleman - Greater Manchester Police</a>, <a href=\"/investigations/officer-prevented-burglar-falling-out-window-metropolitan-police-service\">Officer prevented a burglar from falling out of a window - Metropolitan Police Service</a>, <a href=\"/investigations/arrest-and-baton-use-romford-metropolitan-police-service\">Arrest and baton use in Romford - Metropolitan Police Service</a>, <a href=\"/investigations/greater-manchester-police-pc-jackson-and-pc-lockett\">Greater Manchester Police - PC Jackson and PC Lockett</a>, <a href=\"/investigations/justene-reece-staffordshire-police\">Justene Reece - Staffordshire Police</a>, <a href=\"/investigations/greater-manchester-police-thomas-patrick-connor\">Greater Manchester Police - Thomas Patrick Connor</a>, <a href=\"/investigations/fatal-collision-waltham-abbey-hertfordshire-constabulary\">Fatal collision, Waltham Abbey - Hertfordshire Constabulary</a>, <a href=\"/investigations/kings-cross-fatal-rti-mps\">Kings Cross fatal RTI - MPS</a>, <a href=\"/investigations/our-youth-panel\">Our Youth Panel</a>, <a href=\"/investigations/kerry-power-devon-and-cornwall-police\">Kerry Power - Devon and Cornwall police</a>, <a href=\"/investigations/shooting-knights-close-hackney-metropolitan-police-service\">Shooting in Knights Close, Hackney - Metropolitan Police Service</a>, <a href=\"/investigations/fatal-shooting-lee-bank-birmingham-west-midlands-police\">Fatal shooting at Lee Bank, Birmingham - West Midlands Police</a>, <a href=\"/investigations/use-force-sandwell-west-midlands-police\">Use of force in Sandwell - West Midlands Police </a>, <a href=\"/investigations/courtenay-road-rti-kent\">Courtenay Road RTI - Kent</a>, <a href=\"/investigations/pc-matthew-thompson-nottinghamshire-police\">Pc Matthew Thompson - Nottinghamshire Police</a>, <a href=\"/investigations/earlswood-rti-surrey-police\">Earlswood RTI - Surrey Police </a>, <a href=\"/investigations/abuse-position-police-constable-tameside-greater-manchester-police\">Abuse of position by police constable in Tameside - Greater Manchester Police</a>, <a href=\"/investigations/fatal-a40-crash-metropolitan-police-service\">Fatal A40 crash - Metropolitan Police Service</a>, <a href=\"/investigations/allegations-officers-had-sex-duty-sussex-police\">Allegations officers had sex on duty - Sussex Police</a>, <a href=\"/investigations/cleveland-police-investigation-former-chief-constable-mike-veale\">Cleveland Police - Investigation into former Chief Constable, Mike Veale</a>, <a href=\"/investigations/possible-failure-investigate-acid-attack-metropolitan-police-service\">Possible failure to investigate acid attack - Metropolitan Police Service</a>, <a href=\"/investigations/former-dedicated-detention-officer-sexual-assault-metropolitan-police-service\">Former dedicated detention officer - sexual assault - Metropolitan Police Service </a>, <a href=\"/investigations/bearwood-road-fatal-rti-west-midlands-police\">Bearwood Road fatal RTI - West Midlands Police </a>, <a href=\"/investigations/katrina-makunova-%E2%80%93-metropolitan-police\">Katrina Makunova – Metropolitan Police</a>, <a href=\"/investigations/west-midlands-police-fatal-shooting-coventry\">West Midlands Police - fatal shooting in Coventry</a>, <a href=\"/investigations/restraint-following-stop-and-search-metropolitan-police-service\">Restraint following stop and search - Metropolitan Police Service</a>, <a href=\"/investigations/operation-myall-allegations-irregularities-senior-personnel-british-transport-police\">Operation Myall - Allegations of irregularities by senior personnel at British Transport Police</a>, <a href=\"/investigations/operation-embley-metropolitan-police\">Operation Embley - Metropolitan Police</a>, <a href=\"/investigations/progression-report-concerns-regarding-fitness-drive-fatal-collision-thames-valley\">Progression of a report of concerns regarding fitness to drive before fatal collision - Thames Valley Police</a>, <a href=\"/investigations/roberto-villa-west-yorkshire-police\">Roberto Villa - West Yorkshire Police </a>, <a href=\"/investigations/wimbledon-shooting-metropolitan-police-service\">Wimbledon shooting - Metropolitan Police Service</a>, <a href=\"/investigations/darnall-fatal-collision-south-yorkshire-police\">Darnall fatal collision - South Yorkshire Police</a>, <a href=\"/investigations/terrie-ann-jones-south-wales-police\">Terrie-Ann Jones - South Wales Police</a>, <a href=\"/investigations/motorcycle-crash-neasden-metropolitan-police-service\">Motorcycle crash in Neasden - Metropolitan Police Service</a>, <a href=\"/investigations/pc-sunil-narr-west-midlands-police\">PC Sunil Narr - West Midlands Police </a>, <a href=\"/investigations/brentwood-fatal-rti-essex-police\">Brentwood fatal RTI - Essex Police</a>, <a href=\"/investigations/allegations-accessing-confidential-information-city-london\">Allegations of accessing confidential information - City of London</a>, <a href=\"/investigations/bexleyheath-death-following-police-contact-metropolitan-police-service\">Bexleyheath death following police contact - Metropolitan Police Service</a>, <a href=\"/investigations/cassey-hood-and-lucy-leadbeater-fatal-road-traffic-collision-kent-police\">Cassey Hood and Lucy Leadbeater - fatal road traffic collision - Kent Police</a>, <a href=\"/investigations/arrest-st-helier-use-force-metropolitan-police\">Arrest in St Helier - use of force - Metropolitan Police</a>, <a href=\"/investigations/collision-between-man-and-police-car-north-london-metropolitan-police-service\">Collision between a man and a police car in north London - Metropolitan Police Service </a>, <a href=\"/investigations/william-stilwell-cambridgeshire-constabulary\">William Stilwell - Cambridgeshire Constabulary </a>, <a href=\"/investigations/keiran-o%E2%80%99brien-cheshire-police\">Keiran O’Brien - Cheshire Police </a>, <a href=\"/investigations/toller-lane-west-yorkshire-police\">Toller Lane - West Yorkshire Police </a>, <a href=\"/investigations/collision-near-buckingham-palace-metropolitan-police\">Collision near Buckingham Palace - Metropolitan Police</a>, <a href=\"/investigations/pc-colin-noble-west-midlands-police\">Pc Colin Noble - West Midlands Police </a>, <a href=\"/investigations/excessive-force-sussex-police\">Excessive force - Sussex Police</a>, <a href=\"/investigations/andre-moura-death-custody-greater-manchester-police\">Andre Moura - Death in custody - Greater Manchester Police</a>, <a href=\"/investigations/death-man-following-immigration-enforcement-operation-newport-home-office\">Death of man following Immigration Enforcement operation in Newport - Home Office</a>, <a href=\"/investigations/death-following-contact-blackwood-gwent-police\">Death following contact in Blackwood - Gwent Police</a>, <a href=\"/investigations/joshua-ball-staffordshire-police\">Joshua Ball - Staffordshire Police</a>, <a href=\"/investigations/kings-road-rti-sussex-police\">Kings Road RTI - Sussex Police</a>, <a href=\"/investigations/kevin-tridgell-death-following-police-contact-kent-police\">Kevin Tridgell - death following police contact - Kent Police</a>, <a href=\"/investigations/ashford-crescent-use-force-metropolitan-police\">Ashford Crescent - use of force - Metropolitan Police</a>, <a href=\"/investigations/angela-craddock-murder-woman-following-police-contact-cheshire-constabulary\">Angela Craddock - murder of a woman following police contact - Cheshire Constabulary</a>, <a href=\"/investigations/inappropriate-conduct-charing-cross-police-station-metropolitan-police\">Inappropriate conduct at Charing Cross police station - Metropolitan Police</a>, <a href=\"/investigations/alleged-failings-child-abuse-investigation-essex-police\">Alleged failings in child abuse investigation - Essex Police</a>, <a href=\"/investigations/lewisham-stop-and-search-metropolitan-police\">Lewisham stop and search - Metropolitan Police</a>, <a href=\"/investigations/oghene-abboh-metropolitan-police\">Oghene Abboh - Metropolitan Police</a>, <a href=\"/investigations/richard-cottier-metropolitan-police-service\">Richard Cottier - Metropolitan Police Service</a>, <a href=\"/investigations/michelle-savage-death-following-police-contact-sussex-police\">Michelle Savage - death following police contact - Sussex Police</a>, <a href=\"/investigations/danielle-richardson-greater-manchester-police\">Danielle Richardson - Greater Manchester Police</a>, <a href=\"/investigations/gaia-pope-sutherland-dorset-police\">Gaia Pope-Sutherland - Dorset Police</a>, <a href=\"/investigations/death-following-custody-walworth-metropolitan-police\">Death following custody in Walworth - Metropolitan Police</a>, <a href=\"/investigations/teenager-injured-luton-car-crash-bedfordshire\">Teenager injured in Luton car crash - Bedfordshire</a>, <a href=\"/investigations/broken-arm-during-detention-bedfordshire-police\">Broken arm during detention - Bedfordshire Police</a>, <a href=\"/investigations/hackney-shooting-metropolitan-police\">Hackney shooting - Metropolitan Police</a>, <a href=\"/investigations/kevin-clarke-metropolitan-police-service\">Kevin Clarke - Metropolitan Police Service</a>, <a href=\"/investigations/pc-matthew-fitzgibbon-assault-charge-surrey-police\">PC Matthew Fitzgibbon - Assault charge - Surrey Police</a>, <a href=\"/investigations/shane-gilmer-humberside-police\">Shane Gilmer - Humberside Police</a>, <a href=\"/investigations/stephen-lawrence-allegations-corruption-original-investigation-metropolitan-police\">Stephen Lawrence - Allegations of corruption in original investigation - Metropolitan Police Service</a>, <a href=\"/investigations/st-leonards-warrior-square-rti-sussex-police\">St Leonards Warrior Square RTI - Sussex Police</a>, <a href=\"/investigations/response-calls-prior-stabbing-staffordshire-police\">Response to calls prior to stabbing - Staffordshire Police</a>, <a href=\"/investigations/sian-blake-metropolitan-police\">Sian Blake - Metropolitan Police</a>, <a href=\"/investigations/arbour-youth-centre-incident-metropolitan-police\">Arbour Youth Centre incident - Metropolitan Police</a>, <a href=\"/investigations/lee-sparks-suffolk-constabulary\">Lee Sparks - Suffolk Constabulary</a>, <a href=\"/investigations/claire-harper-west-yorkshire-police\">Claire Harper - West Yorkshire Police</a>, <a href=\"/investigations/suzanne-brown-essex-police\">Suzanne Brown - Essex Police</a>, <a href=\"/investigations/shaun-aherne-derbyshire-constabulary\">Shaun Aherne - Derbyshire Constabulary</a>, <a href=\"/investigations/operation-forbes-cleveland-police\">Operation Forbes - Cleveland Police</a>, <a href=\"/investigations/use-force-protest-metropolitan-police\">Use of force at protest - Metropolitan Police</a>, <a href=\"/investigations/inappropriate-text-messages-and-videos-allegedly-sent-two-officers-metropolitan\">Inappropriate text messages and videos allegedly sent by two officers - Metropolitan Police Service</a>, <a href=\"/investigations/collision-moped-metropolitan-police-service\">Collision with moped - Metropolitan Police Service</a>, <a href=\"/investigations/fatal-road-traffic-collision-thames-valley-police\">Fatal road traffic collision - Thames Valley Police</a>, <a href=\"/use-force-west-midlands-police\">Use of force – West Midlands Police</a>, <a href=\"/investigations/lewis-johnson-metropolitan-police-service\">Lewis Johnson - Metropolitan Police Service</a>, <a href=\"/investigations/kensington-chelsea-professional-standards-corruption-allegations-metropolitan-police\">Kensington &amp; Chelsea professional standards corruption allegations - Metropolitan Police</a>, <a href=\"/investigations/paul-gladwell-suffolk-police\">Paul Gladwell - Suffolk Police</a>, <a href=\"/investigations/rochdale-road-incident-greater-manchester-police\">Rochdale Road incident - Greater Manchester Police</a>, <a href=\"/investigations/paul-gladwell-suffolk-police\">Paul Gladwell - Suffolk Police</a>, <a href=\"/fatal-shooting-huddersfield-west-yorkshire-police\">Fatal shooting in Huddersfield - West Yorkshire Police</a>, <a href=\"/waltham-cross-trident-operation-mps\">Waltham Cross Trident Operation - Met Police</a>, <a href=\"/investigations/forth-bridge-road-clapham-serious-rti-mps\">Forth Bridge Road, Clapham - serious RTI - MPS</a>, <a href=\"/investigations/rochdale-road-incident-greater-manchester-police\">Rochdale Road incident - Greater Manchester Police</a>, <a href=\"/investigations/ben-rich-metropolitan-police\">Ben Rich - Metropolitan Police</a>, <a href=\"/waltham-cross-trident-operation-mps\">Waltham Cross Trident Operation - Met Police</a>, <a href=\"/investigations/willesden-non-fatal-shooting-metropolitan-police\">Willesden non-fatal shooting - Metropolitan Police</a>, <a href=\"/investigations/forth-bridge-road-clapham-serious-rti-mps\">Forth Bridge Road, Clapham - serious RTI - MPS</a>, <a href=\"/investigations/rochdale-road-incident-greater-manchester-police\">Rochdale Road incident - Greater Manchester Police</a>, <a href=\"/investigations/ben-rich-metropolitan-police\">Ben Rich - Metropolitan Police</a>, <a href=\"/investigations/david-ormesher-sussex-police\">David Ormesher - Sussex Police</a>, <a href=\"/waltham-cross-trident-operation-mps\">Waltham Cross Trident Operation - Met Police</a>, <a href=\"/investigations/willesden-non-fatal-shooting-metropolitan-police\">Willesden non-fatal shooting - Metropolitan Police</a>, <a href=\"/investigations/forth-bridge-road-clapham-serious-rti-mps\">Forth Bridge Road, Clapham - serious RTI - MPS</a>, <a href=\"/investigations/rochdale-road-incident-greater-manchester-police\">Rochdale Road incident - Greater Manchester Police</a>, <a href=\"/investigations/ben-rich-metropolitan-police\">Ben Rich - Metropolitan Police</a>, <a href=\"/investigations/david-ormesher-sussex-police\">David Ormesher - Sussex Police</a>, <a href=\"/waltham-cross-trident-operation-mps\">Waltham Cross Trident Operation - Met Police</a>, <a href=\"/investigations/willesden-non-fatal-shooting-metropolitan-police\">Willesden non-fatal shooting - Metropolitan Police</a>, <a href=\"/investigations/forth-bridge-road-clapham-serious-rti-mps\">Forth Bridge Road, Clapham - serious RTI - MPS</a>, <a href=\"/investigations/rochdale-road-incident-greater-manchester-police\">Rochdale Road incident - Greater Manchester Police</a>, <a href=\"/investigations/ben-rich-metropolitan-police\">Ben Rich - Metropolitan Police</a>, <a href=\"/investigations/david-ormesher-sussex-police\">David Ormesher - Sussex Police</a>, <a href=\"/investigations/willesden-non-fatal-shooting-metropolitan-police\">Willesden non-fatal shooting - Metropolitan Police</a>, <a href=\"/investigations/forth-bridge-road-clapham-serious-rti-mps\">Forth Bridge Road, Clapham - serious RTI - MPS</a>, <a href=\"/investigations/rochdale-road-incident-greater-manchester-police\">Rochdale Road incident - Greater Manchester Police</a>, <a href=\"/investigations/ben-rich-metropolitan-police\">Ben Rich - Metropolitan Police</a>, <a href=\"/investigations/david-ormesher-sussex-police\">David Ormesher - Sussex Police</a>, <a href=\"/investigations/rotherham-csa-investigations-south-yorkshire-police\">Rotherham CSA investigations - South Yorkshire Police</a>, <a href=\"/investigations/clapton-use-force-investigation-mps\">Clapton use of force investigation - MPS </a>, <a href=\"/investigations/fatal-rti-kensington-metropolitan-police\">Fatal RTI in Kensington - Metropolitan Police</a>, <a href=\"/investigations/william-smith-kent-police\">William Smith - Kent Police</a>, <a href=\"/investigations/darren-brown-west-midlands-police\">Darren Brown - West Midlands Police </a>, <a href=\"/investigations/pc-ian-terry-greater-manchester-police\">Pc Ian Terry - Greater Manchester Police</a>, <a href=\"/investigations/darren-cumberbatch-warwickshire-police\">Darren Cumberbatch - Warwickshire Police</a>]\n",
            "/investigations/yasmin-jasiak-northumbria\n"
          ]
        }
      ]
    },
    {
      "cell_type": "markdown",
      "metadata": {
        "id": "MllFUI7s5w2G"
      },
      "source": [
        "## Creating a dataframe to store those results\n",
        "\n",
        "Now we run it in full, this time creating a dataframe to store the results."
      ]
    },
    {
      "cell_type": "code",
      "metadata": {
        "colab": {
          "base_uri": "https://localhost:8080/"
        },
        "id": "0fz04qj8TIJj",
        "outputId": "2a56def2-fe40-42c7-ee04-c50d225150d1"
      },
      "source": [
        "#Create a dataframe to store the data we are about to scrape\n",
        "#It has to match the structure of the data we're fetching\n",
        "#We call this dataframe 'df'\n",
        "df = pd.DataFrame(columns=[\"url\",\"heading\",\"date\",\"content\",\"tags\"])\n",
        "\n",
        "#Loop through - limit to first few links here\n",
        "for linkurl in alllinks[:5]:\n",
        "  linkurl = linkurl['href']\n",
        "  #we have a problem with 'investigations' being repeated, so this cleans that\n",
        "  linkurl = linkurl.replace(\"/investigations\",\"https://policeconduct.gov.uk/investigations\")\n",
        "  print(linkurl)\n",
        "  reportresults = scrapereport(linkurl)\n",
        "  #print(reportresults)\n",
        "  #append to our dataframe\n",
        "  df = df.append(\n",
        "    reportresults,\n",
        "    ignore_index=True\n",
        "    )\n"
      ],
      "execution_count": null,
      "outputs": [
        {
          "output_type": "stream",
          "name": "stdout",
          "text": [
            "https://policeconduct.gov.uk/investigations/yasmin-jasiak-northumbria\n",
            "1 2 1 1\n",
            "Yasmin Jasiak - Northumbria\n",
            "published 15 Feb 2022\n",
            "content Read information about our five-month investigation into into the death of a woman who died in her home following police contact by Northumbria Police officers. We concluded our investigation in July 2021 and found that officers acted in line with procedures and did all they could to help save her life. We shared our findings with Ms Jasiak's family, the force and the Coroner. An inquest held ended on Tuesday 8 February 2022 with the Coronor recording a narrative conclusion of cardiac arrest associated with hanging, due to post traumatic stress disorder and intoxication.\n",
            "Northumbria Police\n",
            "['Northumbria Police']\n",
            "{'url': 'https://policeconduct.gov.uk/investigations/yasmin-jasiak-northumbria', 'heading': 'Yasmin Jasiak - Northumbria', 'date': '15 Feb 2022', 'content': \"Read information about our five-month investigation into into the death of a woman who died in her home following police contact by Northumbria Police officers. We concluded our investigation in July 2021 and found\\xa0that officers acted in line with procedures and did all they could to help save her life.\\xa0We shared our findings with Ms Jasiak's\\xa0family, the force and\\xa0the Coroner.\\xa0An inquest held\\xa0ended on Tuesday 8 February 2022 with the Coronor recording a narrative conclusion of cardiac arrest associated with hanging, due to post traumatic stress disorder and intoxication.\\n\", 'tags': ['Northumbria Police']}\n",
            "https://policeconduct.gov.uk/investigations/allegations-inappropriate-contact-officer-three-vulnerable-women-west-mercia-police\n",
            "1 2 1 2\n",
            "Allegations of inappropriate contact by officer with three vulnerable women - West Mercia Police\n",
            "published 07 Feb 2022\n",
            "content Read information about our investigation into a former West Mercia Police officer over allegations of inappropriate contact with three vulnerable women. A police disciplinary panel held on 7 February 2022 found that former PC Jonathan Townsend, who resigned from the force in November 2021, would have been dismissed if he were still serving.\n",
            "Corruption and abuse of power\n",
            "West Mercia Police\n",
            "['Corruption and abuse of power', 'West Mercia Police']\n",
            "{'url': 'https://policeconduct.gov.uk/investigations/allegations-inappropriate-contact-officer-three-vulnerable-women-west-mercia-police', 'heading': 'Allegations of inappropriate contact by officer with three vulnerable women - West Mercia Police', 'date': '07 Feb 2022', 'content': 'Read information about our investigation into a former West Mercia Police officer over allegations of inappropriate contact with three vulnerable women. A police disciplinary panel held on 7 February 2022 found that former PC Jonathan Townsend, who resigned from the force in November 2021, would have been dismissed if he were still serving.\\xa0\\n', 'tags': ['Corruption and abuse of power', 'West Mercia Police']}\n",
            "https://policeconduct.gov.uk/investigations/allegations-inappropriate-contact-two-women-west-mercia-police\n",
            "1 2 1 2\n",
            "Allegations of inappropriate contact with two women - West Mercia Police\n",
            "published 03 Feb 2022\n",
            "content Read information here about our investigation into allegations against a West Mercia Police officer, PC Michael Harrison of inappropriate contact with two vulnerable women he met during the course of his duties. PC Harrison was dismissed by a police disciplinary panel following a gross misconduct hearing on 3 February 2022.\n",
            "Corruption and abuse of power\n",
            "West Mercia Police\n",
            "['Corruption and abuse of power', 'West Mercia Police']\n",
            "{'url': 'https://policeconduct.gov.uk/investigations/allegations-inappropriate-contact-two-women-west-mercia-police', 'heading': 'Allegations of inappropriate contact with two women - West Mercia Police', 'date': '03 Feb 2022', 'content': 'Read information here about our investigation into allegations against a West Mercia Police officer, PC Michael Harrison of inappropriate contact with two vulnerable women he met during the course of his duties. PC Harrison was dismissed by a police disciplinary panel following a gross misconduct hearing\\xa0on 3 February 2022.\\xa0\\n', 'tags': ['Corruption and abuse of power', 'West Mercia Police']}\n",
            "https://policeconduct.gov.uk/investigations/use-force-greater-manchester-police\n",
            "1 2 1 1\n",
            "Use of Force - Greater Manchester Police\n",
            "published 03 Feb 2022\n",
            "content Read information about our investigation into a Greater Manchester Police Constable who was given a written warning for his use of CS Spray during an arrest of a 13-year-old boy.Our investigation began in August 2020 and concluded in December 2020 with a misconduct hearing held on 25 January.\n",
            "Greater Manchester Police\n",
            "['Greater Manchester Police']\n",
            "{'url': 'https://policeconduct.gov.uk/investigations/use-force-greater-manchester-police', 'heading': 'Use of Force - Greater Manchester Police', 'date': '03 Feb 2022', 'content': 'Read information about our investigation into a Greater Manchester Police Constable who was given a written warning for his use of CS Spray during an arrest of a 13-year-old boy.Our investigation began in August 2020 and concluded in December 2020 with a misconduct hearing held on 25 January.\\n', 'tags': ['Greater Manchester Police']}\n",
            "https://policeconduct.gov.uk/investigations/detective-guilty-forging-murder-trial-witness-statement-hampshire-constabulary\n",
            "1 2 3 2\n",
            "Detective guilty of forging murder trial witness statement - Hampshire Constabulary\n",
            "published 25 Jan 2022\n",
            "content Read information about our investigation into DC Robert Ferrow, based at Portsmouth police station, who was charged with making a false instrument with intent for it to be accepted as genuine, under the Forgery and Counterfeiting Act 1981. \n",
            "Our investigation began in August 2019 and concluded in June 2020. At the investigation’s conclusion, we referred a file of evidence to the Crown Prosecution Service (CPS), which made the decision to charge the officer. A special case misconduct hearing was held on 25 October 2021, where the Hampshire Constabulary Police Chief Constable ruled former DC Ferrow would have been dismissed if still a serving officer. He will be placed on the police barred list. \n",
            "Our investigation report and summary of conclusions are available from this investigation page.\n",
            "Corruption and abuse of power\n",
            "Hampshire Constabulary\n",
            "['Corruption and abuse of power', 'Hampshire Constabulary']\n",
            "{'url': 'https://policeconduct.gov.uk/investigations/detective-guilty-forging-murder-trial-witness-statement-hampshire-constabulary', 'heading': 'Detective guilty of forging murder trial witness statement - Hampshire Constabulary', 'date': '25 Jan 2022', 'content': 'Read information about our investigation into DC Robert Ferrow, based at Portsmouth police station, who was\\xa0charged with making a false instrument with intent for it to be accepted as genuine, under the Forgery and Counterfeiting Act 1981.\\xa0\\nOur investigation began in August 2019 and concluded in June 2020.\\xa0At the investigation’s conclusion, we referred a file of evidence to the Crown Prosecution Service (CPS), which made the decision to charge the officer. A\\xa0special case misconduct hearing was held on 25 October 2021, where the Hampshire Constabulary Police Chief Constable ruled former DC Ferrow would have been dismissed if still a serving officer. He will be placed on the police barred list.\\xa0\\nOur investigation report and summary of conclusions are available from this investigation page.\\xa0\\n', 'tags': ['Corruption and abuse of power', 'Hampshire Constabulary']}\n"
          ]
        }
      ]
    },
    {
      "cell_type": "code",
      "metadata": {
        "colab": {
          "base_uri": "https://localhost:8080/"
        },
        "id": "do-dhJAq8KeP",
        "outputId": "ad488d87-28a4-4d2f-9d42-a62e9498426e"
      },
      "source": [
        "print(df)"
      ],
      "execution_count": null,
      "outputs": [
        {
          "output_type": "stream",
          "name": "stdout",
          "text": [
            "                                                 url  ...                                               tags\n",
            "0  https://policeconduct.gov.uk/investigations/ya...  ...                               [Northumbria Police]\n",
            "1  https://policeconduct.gov.uk/investigations/al...  ...  [Corruption and abuse of power, West Mercia Po...\n",
            "2  https://policeconduct.gov.uk/investigations/al...  ...  [Corruption and abuse of power, West Mercia Po...\n",
            "3  https://policeconduct.gov.uk/investigations/us...  ...                        [Greater Manchester Police]\n",
            "4  https://policeconduct.gov.uk/investigations/de...  ...  [Corruption and abuse of power, Hampshire Cons...\n",
            "\n",
            "[5 rows x 5 columns]\n"
          ]
        }
      ]
    },
    {
      "cell_type": "markdown",
      "metadata": {
        "id": "RE1mN8vwb6zq"
      },
      "source": [
        "## Export data (and remove duplicates0\n",
        "\n",
        "We use `drop_duplicates()` to remove entries with the same URL.\n",
        "\n",
        "Export what we have..."
      ]
    },
    {
      "cell_type": "code",
      "metadata": {
        "id": "DXyI5loGn1fi"
      },
      "source": [
        "#remove duplicates based on the url column\n",
        "df = df.drop_duplicates(subset=\"url\")\n",
        "#And we can export it\n",
        "df.to_csv(\"scrapeddata.csv\")\n"
      ],
      "execution_count": null,
      "outputs": []
    },
    {
      "cell_type": "markdown",
      "metadata": {
        "id": "sJDFe4qDad72"
      },
      "source": [
        "## Doing some analysis\n",
        "\n",
        "It looks like we've stored our tags as a column of lists. But have we?"
      ]
    },
    {
      "cell_type": "code",
      "metadata": {
        "colab": {
          "base_uri": "https://localhost:8080/"
        },
        "id": "uuhWSvMyaisR",
        "outputId": "f786fecf-9eb6-4fa8-f9c2-b93df0db6770"
      },
      "source": [
        "for i, l in enumerate(df[\"tags\"][:10]):\n",
        "    print(\"list\",i,\"is\",type(l))"
      ],
      "execution_count": null,
      "outputs": [
        {
          "output_type": "stream",
          "name": "stdout",
          "text": [
            "list 0 is <class 'list'>\n",
            "list 1 is <class 'list'>\n",
            "list 2 is <class 'list'>\n",
            "list 3 is <class 'list'>\n",
            "list 4 is <class 'list'>\n"
          ]
        }
      ]
    },
    {
      "cell_type": "markdown",
      "metadata": {
        "id": "4_uEH6oibCGk"
      },
      "source": [
        "I've borrowed a function from [this post](https://towardsdatascience.com/dealing-with-list-values-in-pandas-dataframes-a177e534f173) to count frequency:"
      ]
    },
    {
      "cell_type": "code",
      "metadata": {
        "id": "Cg7-WcYvbGbr"
      },
      "source": [
        "def to_1D(series):\n",
        " return pd.Series([x for _list in series for x in _list])"
      ],
      "execution_count": null,
      "outputs": []
    },
    {
      "cell_type": "code",
      "metadata": {
        "id": "yeBLmTwDbLJf",
        "colab": {
          "base_uri": "https://localhost:8080/"
        },
        "outputId": "d4ec8bde-6aba-4e77-f3e9-a2e694491049"
      },
      "source": [
        "tagcounts = to_1D(df[\"tags\"]).value_counts()\n",
        "print(tagcounts)\n",
        "tagcounts.to_csv(\"tagcounts.csv\")"
      ],
      "execution_count": null,
      "outputs": [
        {
          "output_type": "stream",
          "name": "stdout",
          "text": [
            "Corruption and abuse of power    3\n",
            "West Mercia Police               2\n",
            "Northumbria Police               1\n",
            "Greater Manchester Police        1\n",
            "Hampshire Constabulary           1\n",
            "dtype: int64\n"
          ]
        }
      ]
    }
  ]
}